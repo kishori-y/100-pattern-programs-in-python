{
 "cells": [
  {
   "cell_type": "code",
   "execution_count": 2,
   "id": "a3fdfa7e",
   "metadata": {},
   "outputs": [
    {
     "name": "stdout",
     "output_type": "stream",
     "text": [
      "Enter the number of rows= 10\n",
      "         1 \n",
      "        1 2 \n",
      "       1 2 3 \n",
      "      1 2 3 4 \n",
      "     1 2 3 4 5 \n",
      "    1 2 3 4 5 6 \n",
      "   1 2 3 4 5 6 7 \n",
      "  1 2 3 4 5 6 7 8 \n",
      " 1 2 3 4 5 6 7 8 9 \n",
      "1 2 3 4 5 6 7 8 9 10 \n"
     ]
    }
   ],
   "source": [
    "# pattern-26 #\n",
    "\n",
    "n=int(input(\"Enter the number of rows= \"))\n",
    "for i in range (1,n+1):\n",
    "    print(\" \"*(n-i),end=\"\")\n",
    "    for j in range (1,i+1):\n",
    "        print(j,end=\" \")\n",
    "    print()    "
   ]
  },
  {
   "cell_type": "code",
   "execution_count": 5,
   "id": "1d1d003a",
   "metadata": {},
   "outputs": [
    {
     "name": "stdout",
     "output_type": "stream",
     "text": [
      "Enter the number of rows= 10\n",
      "          A \n",
      "\n",
      "         B B \n",
      "\n",
      "        C C C \n",
      "\n",
      "       D D D D \n",
      "\n",
      "      E E E E E \n",
      "\n",
      "     F F F F F F \n",
      "\n",
      "    G G G G G G G \n",
      "\n",
      "   H H H H H H H H \n",
      "\n",
      "  I I I I I I I I I \n",
      "\n",
      " J J J J J J J J J J \n",
      "\n"
     ]
    }
   ],
   "source": [
    "# pattern-27 #\n",
    "\n",
    "n=int(input(\"Enter the number of rows= \"))\n",
    "for i in range (1,n+1):\n",
    "    print(\" \"*(n-i),(chr(64+i)+\" \")*i)\n",
    "    print()    "
   ]
  },
  {
   "cell_type": "code",
   "execution_count": 6,
   "id": "bccb1b93",
   "metadata": {},
   "outputs": [
    {
     "name": "stdout",
     "output_type": "stream",
     "text": [
      "Enter the number of rows= 10\n",
      "         A \n",
      "        A B \n",
      "       A B C \n",
      "      A B C D \n",
      "     A B C D E \n",
      "    A B C D E F \n",
      "   A B C D E F G \n",
      "  A B C D E F G H \n",
      " A B C D E F G H I \n",
      "A B C D E F G H I J \n"
     ]
    }
   ],
   "source": [
    "# pattern-28 #\n",
    "\n",
    "n=int(input(\"Enter the number of rows= \"))\n",
    "for i in range (1,n+1):\n",
    "    print(\" \"*(n-i),end=\"\")\n",
    "    for j in range (1,i+1):\n",
    "        print(chr(64+j),end=\" \")\n",
    "    print()     "
   ]
  },
  {
   "cell_type": "code",
   "execution_count": 9,
   "id": "2126b4c3",
   "metadata": {},
   "outputs": [
    {
     "name": "stdout",
     "output_type": "stream",
     "text": [
      "Enter the number of rows= 10\n",
      " **********\n",
      "  *********\n",
      "   ********\n",
      "    *******\n",
      "     ******\n",
      "      *****\n",
      "       ****\n",
      "        ***\n",
      "         **\n",
      "          *\n"
     ]
    }
   ],
   "source": [
    "# pattern-29 #\n",
    "\n",
    "n=int(input(\"Enter the number of rows= \"))\n",
    "for i in range (1,n+1):\n",
    "    print(\" \"*(i-1),\"*\"*(n+1-i))    "
   ]
  },
  {
   "cell_type": "code",
   "execution_count": 11,
   "id": "ae783e8c",
   "metadata": {},
   "outputs": [
    {
     "name": "stdout",
     "output_type": "stream",
     "text": [
      "Enter the number of rows= 5\n",
      " 55555\n",
      "  4444\n",
      "   333\n",
      "    22\n",
      "     1\n"
     ]
    }
   ],
   "source": [
    "# pattern-30 #\n",
    "\n",
    "n=int(input(\"Enter the number of rows= \"))\n",
    "for i in range (1,n+1):\n",
    "    print(\" \"*(i-1),(str(n+1-i)+\"\")*(n+1-i))    "
   ]
  },
  {
   "cell_type": "code",
   "execution_count": 13,
   "id": "18bf2f4c",
   "metadata": {},
   "outputs": [
    {
     "name": "stdout",
     "output_type": "stream",
     "text": [
      "Enter the number of rows= 5\n",
      "12345\n",
      " 1234\n",
      "  123\n",
      "   12\n",
      "    1\n"
     ]
    }
   ],
   "source": [
    "# pattern-31 #\n",
    "\n",
    "n=int(input(\"Enter the number of rows= \"))\n",
    "for i in range (1,n+1):\n",
    "    print(\" \"*(i-1),end=\"\")\n",
    "    for j in range (1,n+2-i):\n",
    "        print(j,end=\"\")\n",
    "    print()     "
   ]
  },
  {
   "cell_type": "code",
   "execution_count": 17,
   "id": "bb49e9fe",
   "metadata": {},
   "outputs": [
    {
     "name": "stdout",
     "output_type": "stream",
     "text": [
      "Enter the number of rows= 5\n",
      " EEEEE\n",
      "  DDDD\n",
      "   CCC\n",
      "    BB\n",
      "     A\n"
     ]
    }
   ],
   "source": [
    "# pattern-32 #\n",
    "\n",
    "n=int(input(\"Enter the number of rows= \"))\n",
    "for i in range (1,n+1):\n",
    "    print(\" \"*(i-1),(str(chr(65+n-i))+\"\")*(n+1-i))    "
   ]
  },
  {
   "cell_type": "code",
   "execution_count": 20,
   "id": "a038777b",
   "metadata": {},
   "outputs": [
    {
     "name": "stdout",
     "output_type": "stream",
     "text": [
      "Enter the number of rows= 5\n",
      "ABCDE\n",
      " ABCD\n",
      "  ABC\n",
      "   AB\n",
      "    A\n"
     ]
    }
   ],
   "source": [
    "# pattern-33 #\n",
    "\n",
    "n=int(input(\"Enter the number of rows= \"))\n",
    "for i in range (1,n+1):\n",
    "    print(\" \"*(i-1),end=\"\")\n",
    "    for j in range (65,66+n-i):\n",
    "        print(chr(j),end=\"\")\n",
    "    print()     "
   ]
  },
  {
   "cell_type": "code",
   "execution_count": 22,
   "id": "2230d792",
   "metadata": {},
   "outputs": [
    {
     "name": "stdout",
     "output_type": "stream",
     "text": [
      "Enter the number of rows= 5\n",
      "     * \n",
      "    * * \n",
      "   * * * \n",
      "  * * * * \n",
      " * * * * * \n"
     ]
    }
   ],
   "source": [
    "# pattern-34 #\n",
    "\n",
    "n=int(input(\"Enter the number of rows= \"))\n",
    "for i in range (1,n+1):\n",
    "    print(\" \"*(n-i),\"* \"*(2*i-i))   "
   ]
  },
  {
   "cell_type": "code",
   "execution_count": 24,
   "id": "ee3526cc",
   "metadata": {},
   "outputs": [
    {
     "name": "stdout",
     "output_type": "stream",
     "text": [
      "Enter the number of rows= 5\n",
      "     1 \n",
      "    2 2 \n",
      "   3 3 3 \n",
      "  4 4 4 4 \n",
      " 5 5 5 5 5 \n"
     ]
    }
   ],
   "source": [
    "# pattern-35 #\n",
    "\n",
    "n=int(input(\"Enter the number of rows= \"))\n",
    "for i in range (1,n+1):\n",
    "    print(\" \"*(n-i),(str(i)+\" \")*(2*i-i))   "
   ]
  },
  {
   "cell_type": "code",
   "execution_count": 25,
   "id": "c214ee9c",
   "metadata": {},
   "outputs": [
    {
     "name": "stdout",
     "output_type": "stream",
     "text": [
      "Enter the number of rows= 5\n",
      "     A \n",
      "    B B \n",
      "   C C C \n",
      "  D D D D \n",
      " E E E E E \n"
     ]
    }
   ],
   "source": [
    "# pattern-36 #\n",
    "\n",
    "n=int(input(\"Enter the number of rows= \"))\n",
    "for i in range (1,n+1):\n",
    "    print(\" \"*(n-i),(str(chr(64+i)+\" \"))*(2*i-i))    "
   ]
  },
  {
   "cell_type": "code",
   "execution_count": 26,
   "id": "a80435d7",
   "metadata": {},
   "outputs": [
    {
     "name": "stdout",
     "output_type": "stream",
     "text": [
      "Enter the number of rows= 5\n",
      "     A \n",
      "    C C \n",
      "   E E E \n",
      "  G G G G \n",
      " I I I I I \n"
     ]
    }
   ],
   "source": [
    "# pattern-37 #\n",
    "\n",
    "n=int(input(\"Enter the number of rows= \"))\n",
    "for i in range (1,n+1):\n",
    "    print(\" \"*(n-i),(str(chr(64+2*i-1)+\" \"))*(2*i-i))    "
   ]
  },
  {
   "cell_type": "code",
   "execution_count": 28,
   "id": "acd42195",
   "metadata": {},
   "outputs": [
    {
     "name": "stdout",
     "output_type": "stream",
     "text": [
      "Enter the number of rows= 5\n",
      "    1\n",
      "   123\n",
      "  12345\n",
      " 1234567\n",
      "123456789\n"
     ]
    }
   ],
   "source": [
    "# pattern-38 #\n",
    "\n",
    "n=int(input(\"Enter the number of rows= \"))\n",
    "for i in range (1,n+1):\n",
    "    print(\" \"*(n-i),end=\"\")\n",
    "    for j in range(1,2*i):\n",
    "        print(j,end=\"\")\n",
    "    print()"
   ]
  },
  {
   "cell_type": "code",
   "execution_count": 29,
   "id": "4b10dfdb",
   "metadata": {},
   "outputs": [
    {
     "name": "stdout",
     "output_type": "stream",
     "text": [
      "Enter the number of rows= 5\n",
      "    1\n",
      "   321\n",
      "  54321\n",
      " 7654321\n",
      "987654321\n"
     ]
    }
   ],
   "source": [
    "# pattern-39 #\n",
    "\n",
    "n=int(input(\"Enter the number of rows= \"))\n",
    "for i in range (1,n+1):\n",
    "    print(\" \"*(n-i),end=\"\")\n",
    "    for j in range(2*i-1,0,-1):\n",
    "        print(j,end=\"\")\n",
    "    print()"
   ]
  },
  {
   "cell_type": "code",
   "execution_count": 30,
   "id": "2a3f4ae1",
   "metadata": {},
   "outputs": [
    {
     "name": "stdout",
     "output_type": "stream",
     "text": [
      "Enter the number of rows= 5\n",
      "    A\n",
      "   ABC\n",
      "  ABCDE\n",
      " ABCDEFG\n",
      "ABCDEFGHI\n"
     ]
    }
   ],
   "source": [
    "# pattern-40 #\n",
    "\n",
    "n=int(input(\"Enter the number of rows= \"))\n",
    "for i in range (1,n+1):\n",
    "    print(\" \"*(n-i),end=\"\")\n",
    "    for j in range(65,65+2*i-1):\n",
    "        print(chr(j),end=\"\")\n",
    "    print()"
   ]
  },
  {
   "cell_type": "code",
   "execution_count": 31,
   "id": "525a0628",
   "metadata": {},
   "outputs": [
    {
     "name": "stdout",
     "output_type": "stream",
     "text": [
      "Enter the number of rows= 5\n",
      "    A\n",
      "   CBA\n",
      "  EDCBA\n",
      " GFEDCBA\n",
      "IHGFEDCBA\n"
     ]
    }
   ],
   "source": [
    "# pattern-41 #\n",
    "\n",
    "n=int(input(\"Enter the number of rows= \"))\n",
    "for i in range (1,n+1):\n",
    "    print(\" \"*(n-i),end=\"\")\n",
    "    for j in range(65+2*i-2,64,-1):\n",
    "        print(chr(j),end=\"\")\n",
    "    print()"
   ]
  },
  {
   "cell_type": "code",
   "execution_count": 39,
   "id": "95edc212",
   "metadata": {},
   "outputs": [
    {
     "name": "stdout",
     "output_type": "stream",
     "text": [
      "Enter the number of rows= 5\n",
      "    0 \n",
      "   1 0 1 \n",
      "  2 1 0 1 2 \n",
      " 3 2 1 0 1 2 3 \n",
      "4 3 2 1 0 1 2 3 4 \n"
     ]
    }
   ],
   "source": [
    "# pattern-42 #\n",
    "\n",
    "n=int(input(\"Enter the number of rows= \"))\n",
    "for i in range (1,n+1):\n",
    "    print(\" \"*(n-i),end=\"\")\n",
    "    for j in range(1,i):\n",
    "        print(i-j,end=\" \")\n",
    "    for k in range(0,i):\n",
    "        print(k,end=\" \")\n",
    "    print()"
   ]
  },
  {
   "cell_type": "code",
   "execution_count": 40,
   "id": "3ead09f8",
   "metadata": {},
   "outputs": [
    {
     "name": "stdout",
     "output_type": "stream",
     "text": [
      "Enter the number of rows= 5\n",
      "    A \n",
      "   B A B \n",
      "  C B A B C \n",
      " D C B A B C D \n",
      "E D C B A B C D E \n"
     ]
    }
   ],
   "source": [
    "# pattern-43 #\n",
    "\n",
    "n=int(input(\"Enter the number of rows= \"))\n",
    "for i in range (1,n+1):\n",
    "    print(\" \"*(n-i),end=\"\")\n",
    "    for j in range(1,i):\n",
    "        print(chr(i-j+65),end=\" \")\n",
    "    for k in range(0,i):\n",
    "        print(chr(k+65),end=\" \")\n",
    "    print()"
   ]
  },
  {
   "cell_type": "code",
   "execution_count": 49,
   "id": "b69d431d",
   "metadata": {},
   "outputs": [
    {
     "name": "stdout",
     "output_type": "stream",
     "text": [
      "Enter the number of rows= 5\n",
      "    1 \n",
      "   1 2 1 \n",
      "  1 2 3 2 1 \n",
      " 1 2 3 4 3 2 1 \n",
      "1 2 3 4 5 4 3 2 1 \n"
     ]
    }
   ],
   "source": [
    "# pattern-44 #\n",
    "\n",
    "n=int(input(\"Enter the number of rows= \"))\n",
    "for i in range (1,n+1):\n",
    "    print(\" \"*(n-i),end=\"\")\n",
    "    for j in range(1,i+1):\n",
    "        print(j,end=\" \")\n",
    "    for k in range(i-1,0,-1):\n",
    "        print(k,end=\" \")\n",
    "    print()"
   ]
  },
  {
   "cell_type": "code",
   "execution_count": 50,
   "id": "5ba19012",
   "metadata": {},
   "outputs": [
    {
     "name": "stdout",
     "output_type": "stream",
     "text": [
      "Enter the number of rows= 5\n",
      "    A \n",
      "   A B A \n",
      "  A B C A B \n",
      " A B C D A B C \n",
      "A B C D E A B C D \n"
     ]
    }
   ],
   "source": [
    "# pattern-45 #\n",
    "\n",
    "n=int(input(\"Enter the number of rows= \"))\n",
    "for i in range (1,n+1):\n",
    "    print(\" \"*(n-i),end=\"\")\n",
    "    for j in range(1,i+1):\n",
    "        print(chr(64+j),end=\" \")\n",
    "    for k in range(1,i):\n",
    "        print(chr(64+k),end=\" \")\n",
    "    print()"
   ]
  },
  {
   "cell_type": "code",
   "execution_count": 51,
   "id": "3436ea17",
   "metadata": {},
   "outputs": [
    {
     "name": "stdout",
     "output_type": "stream",
     "text": [
      "Enter the number of rows= 5\n",
      "    5 \n",
      "   5 4 \n",
      "  5 4 3 \n",
      " 5 4 3 2 \n",
      "5 4 3 2 1 \n"
     ]
    }
   ],
   "source": [
    "# pattern-46 #\n",
    "\n",
    "n=int(input(\"Enter the number of rows= \"))\n",
    "for i in range (1,n+1):\n",
    "    print(\" \"*(n-i),end=\"\")\n",
    "    for j in range(1,i+1):\n",
    "        print(n+1-j,end=\" \")\n",
    "    print()"
   ]
  },
  {
   "cell_type": "code",
   "execution_count": 52,
   "id": "abee3ae0",
   "metadata": {},
   "outputs": [
    {
     "name": "stdout",
     "output_type": "stream",
     "text": [
      "Enter the number of rows= 5\n",
      "* * * * * * * * * \n",
      " * * * * * * * \n",
      "  * * * * * \n",
      "   * * * \n",
      "    * \n"
     ]
    }
   ],
   "source": [
    "# pattern-47 #\n",
    "\n",
    "n=int(input(\"Enter the number of rows= \"))\n",
    "for i in range (1,n+1):\n",
    "    print(\" \"*(i-1),end=\"\")\n",
    "    for j in range(1,n+2-i):\n",
    "        print(\"*\",end=\" \")\n",
    "    for k in range(1,n+1-i):\n",
    "        print(\"*\",end=\" \")\n",
    "    print()"
   ]
  },
  {
   "cell_type": "code",
   "execution_count": 53,
   "id": "a8853c22",
   "metadata": {},
   "outputs": [
    {
     "name": "stdout",
     "output_type": "stream",
     "text": [
      "Enter the number of rows= 5\n",
      "5 5 5 5 5 5 5 5 5 \n",
      " 4 4 4 4 4 4 4 \n",
      "  3 3 3 3 3 \n",
      "   2 2 2 \n",
      "    1 \n"
     ]
    }
   ],
   "source": [
    "# pattern-48 #\n",
    "\n",
    "n=int(input(\"Enter the number of rows= \"))\n",
    "for i in range (1,n+1):\n",
    "    print(\" \"*(i-1),end=\"\")\n",
    "    for j in range(0,n+1-i):\n",
    "        print(n+1-i,end=\" \")\n",
    "    for k in range(1,n+1-i):\n",
    "        print(n+1-i,end=\" \")\n",
    "    print()"
   ]
  },
  {
   "cell_type": "code",
   "execution_count": 55,
   "id": "8415ef9d",
   "metadata": {},
   "outputs": [
    {
     "name": "stdout",
     "output_type": "stream",
     "text": [
      "Enter the number of rows= 5\n",
      "9 9 9 9 9 9 9 9 9 \n",
      " 7 7 7 7 7 7 7 \n",
      "  5 5 5 5 5 \n",
      "   3 3 3 \n",
      "    1 \n"
     ]
    }
   ],
   "source": [
    "# pattern-49 #\n",
    "\n",
    "n=int(input(\"Enter the number of rows= \"))\n",
    "for i in range (1,n+1):\n",
    "    print(\" \"*(i-1),end=\"\")\n",
    "    for j in range(0,n+1-i):\n",
    "        print(2*n+1-2*i,end=\" \")\n",
    "    for k in range(1,n+1-i):\n",
    "        print(2*n+1-2*i,end=\" \")\n",
    "    print()"
   ]
  },
  {
   "cell_type": "code",
   "execution_count": 1,
   "id": "3e9ee9ee",
   "metadata": {},
   "outputs": [
    {
     "name": "stdout",
     "output_type": "stream",
     "text": [
      "Enter the number of rows= 5\n",
      "1 2 3 4 5 6 7 8 9 \n",
      " 1 2 3 4 5 6 7 \n",
      "  1 2 3 4 5 \n",
      "   1 2 3 \n",
      "    1 \n"
     ]
    }
   ],
   "source": [
    "# pattern-50 #\n",
    "\n",
    "n=int(input(\"Enter the number of rows= \"))\n",
    "for i in range (1,n+1):\n",
    "    print(\" \"*(i-1),end=\"\")\n",
    "    for j in range(1,n+2-i):\n",
    "        print(j,end=\" \")\n",
    "    for k in range(2,n+2-i):\n",
    "        print(n+k-i,end=\" \")\n",
    "    print()"
   ]
  },
  {
   "cell_type": "code",
   "execution_count": null,
   "id": "8c575482",
   "metadata": {},
   "outputs": [],
   "source": []
  },
  {
   "cell_type": "code",
   "execution_count": null,
   "id": "72d8ea99",
   "metadata": {},
   "outputs": [],
   "source": []
  }
 ],
 "metadata": {
  "kernelspec": {
   "display_name": "Python 3 (ipykernel)",
   "language": "python",
   "name": "python3"
  },
  "language_info": {
   "codemirror_mode": {
    "name": "ipython",
    "version": 3
   },
   "file_extension": ".py",
   "mimetype": "text/x-python",
   "name": "python",
   "nbconvert_exporter": "python",
   "pygments_lexer": "ipython3",
   "version": "3.9.7"
  }
 },
 "nbformat": 4,
 "nbformat_minor": 5
}
