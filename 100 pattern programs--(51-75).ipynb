{
 "cells": [
  {
   "cell_type": "code",
   "execution_count": 1,
   "id": "873af5e8",
   "metadata": {},
   "outputs": [
    {
     "name": "stdout",
     "output_type": "stream",
     "text": [
      "Enter the number of rows= 5\n",
      "E E E E E E E E E \n",
      " D D D D D D D \n",
      "  C C C C C \n",
      "   B B B \n",
      "    A \n"
     ]
    }
   ],
   "source": [
    "# pattern-51 #\n",
    "\n",
    "n=int(input(\"Enter the number of rows= \"))\n",
    "for i in range (1,n+1):\n",
    "    print(\" \"*(i-1),end=\"\")\n",
    "    for j in range(1,n+2-i):\n",
    "        print(chr(65+n-i),end=\" \")\n",
    "    for k in range(2,n+2-i):\n",
    "        print(chr(65+n-i),end=\" \")\n",
    "    print()"
   ]
  },
  {
   "cell_type": "code",
   "execution_count": 2,
   "id": "27a5412e",
   "metadata": {},
   "outputs": [
    {
     "name": "stdout",
     "output_type": "stream",
     "text": [
      "Enter the number of rows= 5\n",
      "I I I I I I I I I \n",
      " G G G G G G G \n",
      "  E E E E E \n",
      "   C C C \n",
      "    A \n"
     ]
    }
   ],
   "source": [
    "# pattern-52 #\n",
    "\n",
    "n=int(input(\"Enter the number of rows= \"))\n",
    "for i in range (1,n+1):\n",
    "    print(\" \"*(i-1),end=\"\")\n",
    "    for j in range(1,n+2-i):\n",
    "        print(chr(65+2*n-2*i),end=\" \")\n",
    "    for k in range(2,n+2-i):\n",
    "        print(chr(65+2*n-2*i),end=\" \")\n",
    "    print()"
   ]
  },
  {
   "cell_type": "code",
   "execution_count": 1,
   "id": "2863743d",
   "metadata": {},
   "outputs": [
    {
     "name": "stdout",
     "output_type": "stream",
     "text": [
      "Enter the number of rows= 5\n",
      "A B C D E E F G H \n",
      " A B C D D E F \n",
      "  A B C C D \n",
      "   A B B \n",
      "    A \n"
     ]
    }
   ],
   "source": [
    "# pattern-53 #\n",
    "\n",
    "n=int(input(\"Enter the number of rows= \"))\n",
    "for i in range (1,n+1):\n",
    "    print(\" \"*(i-1),end=\"\")\n",
    "    for j in range(1,n+2-i):\n",
    "        print(chr(64+j),end=\" \")\n",
    "    for k in range(2,n+2-i):\n",
    "        print(chr(68+k-i),end=\" \")\n",
    "    print()"
   ]
  },
  {
   "cell_type": "code",
   "execution_count": 5,
   "id": "8ec8b873",
   "metadata": {},
   "outputs": [
    {
     "name": "stdout",
     "output_type": "stream",
     "text": [
      "Enter the number of rows= 5\n",
      "    1 \n",
      "   1 2 \n",
      "  1 2 3 \n",
      " 1 2 3 4 \n",
      "1 2 3 4 5 \n",
      " 1 2 3 4 \n",
      "  1 2 3 \n",
      "   1 2 \n",
      "    1 \n"
     ]
    }
   ],
   "source": [
    "# pattern-54 #\n",
    "\n",
    "n=int(input(\"Enter the number of rows= \"))\n",
    "for i in range (1,n+1):\n",
    "    print(\" \"*(n-i),end=\"\")\n",
    "    for j in range(1,i+1):\n",
    "        print(j,end=\" \")\n",
    "    print()\n",
    "for k in range(1,n):\n",
    "    print(\" \"*k,end=\"\")\n",
    "    for l in range(1,n+1-k):\n",
    "        print(l,end=\" \")\n",
    "    print()"
   ]
  },
  {
   "cell_type": "code",
   "execution_count": 6,
   "id": "71fdb552",
   "metadata": {},
   "outputs": [
    {
     "name": "stdout",
     "output_type": "stream",
     "text": [
      "Enter the number of rows= 5\n",
      "    * \n",
      "   * * \n",
      "  * * * \n",
      " * * * * \n",
      "* * * * * \n",
      " * * * * \n",
      "  * * * \n",
      "   * * \n",
      "    * \n"
     ]
    }
   ],
   "source": [
    "# pattern-55 #\n",
    "\n",
    "n=int(input(\"Enter the number of rows= \"))\n",
    "for i in range (1,n+1):\n",
    "    print(\" \"*(n-i),end=\"\")\n",
    "    for j in range(1,i+1):\n",
    "        print(\"*\",end=\" \")\n",
    "    print()\n",
    "for k in range(1,n):\n",
    "    print(\" \"*k,end=\"\")\n",
    "    for l in range(1,n+1-k):\n",
    "        print(\"*\",end=\" \")\n",
    "    print()"
   ]
  },
  {
   "cell_type": "code",
   "execution_count": 8,
   "id": "658edd95",
   "metadata": {},
   "outputs": [
    {
     "name": "stdout",
     "output_type": "stream",
     "text": [
      "Enter the number of rows= 5\n",
      "    4 \n",
      "   4 3 \n",
      "  4 3 2 \n",
      " 4 3 2 1 \n",
      "4 3 2 1 0 \n",
      " 4 3 2 1 \n",
      "  4 3 2 \n",
      "   4 3 \n",
      "    4 \n"
     ]
    }
   ],
   "source": [
    "# pattern-56 #\n",
    "\n",
    "n=int(input(\"Enter the number of rows= \"))\n",
    "for i in range (1,n+1):\n",
    "    print(\" \"*(n-i),end=\"\")\n",
    "    for j in range(1,i+1):\n",
    "        print(n-j,end=\" \")\n",
    "    print()\n",
    "for k in range(1,n):\n",
    "    print(\" \"*k,end=\"\")\n",
    "    for l in range(1,n+1-k):\n",
    "        print(n-l,end=\" \")\n",
    "    print()"
   ]
  },
  {
   "cell_type": "code",
   "execution_count": 2,
   "id": "317f2f49",
   "metadata": {},
   "outputs": [
    {
     "name": "stdout",
     "output_type": "stream",
     "text": [
      "Enter a Number: 4\n",
      "   3 \n",
      "  2 3 \n",
      " 1 2 3 \n",
      "0 1 2 3 \n",
      " 1 2 3 \n",
      "  2 3 \n",
      "   3 \n"
     ]
    }
   ],
   "source": [
    "# pattern-57 #\n",
    "num=int(input(\"Enter a Number: \"))\n",
    "for i in range(1,num+1):\n",
    "    print(\" \"*(num-i),end=\"\")\n",
    "    for j in range(0,i):\n",
    "        print(num+j-i,end=\" \")\n",
    "    print()\n",
    "for k in range(1,num):\n",
    "    print(\" \"*k,end=\"\")\n",
    "    for l in range (1,num+1-k):\n",
    "        print(l+k-1,end=\" \")\n",
    "    print()"
   ]
  },
  {
   "cell_type": "code",
   "execution_count": null,
   "id": "c23fc64f",
   "metadata": {},
   "outputs": [],
   "source": []
  }
 ],
 "metadata": {
  "kernelspec": {
   "display_name": "Python 3 (ipykernel)",
   "language": "python",
   "name": "python3"
  },
  "language_info": {
   "codemirror_mode": {
    "name": "ipython",
    "version": 3
   },
   "file_extension": ".py",
   "mimetype": "text/x-python",
   "name": "python",
   "nbconvert_exporter": "python",
   "pygments_lexer": "ipython3",
   "version": "3.10.9"
  }
 },
 "nbformat": 4,
 "nbformat_minor": 5
}
