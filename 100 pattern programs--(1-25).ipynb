{
 "cells": [
  {
   "cell_type": "code",
   "execution_count": 10,
   "id": "2cc2d8ec",
   "metadata": {},
   "outputs": [
    {
     "name": "stdout",
     "output_type": "stream",
     "text": [
      "Enter the number of rows= 5\n",
      "*****\n",
      "*****\n",
      "*****\n",
      "*****\n",
      "*****\n"
     ]
    }
   ],
   "source": [
    "# pattern-1 #\n",
    "\n",
    "n=int(input(\"Enter the number of rows= \"))\n",
    "for i in range (1,n+1):\n",
    "    print(\"*\"*n)"
   ]
  },
  {
   "cell_type": "code",
   "execution_count": 12,
   "id": "86b0bcc8",
   "metadata": {},
   "outputs": [
    {
     "name": "stdout",
     "output_type": "stream",
     "text": [
      "Enter the number of rows= 10\n",
      "1111111111\n",
      "2222222222\n",
      "3333333333\n",
      "4444444444\n",
      "5555555555\n",
      "6666666666\n",
      "7777777777\n",
      "8888888888\n",
      "9999999999\n",
      "10101010101010101010\n"
     ]
    }
   ],
   "source": [
    "# pattern-2 #\n",
    "\n",
    "n=int(input(\"Enter the number of rows= \"))\n",
    "for i in range (1,n+1):\n",
    "    for j in range (1,n+1):\n",
    "        print(i,end=\"\")\n",
    "    print()"
   ]
  },
  {
   "cell_type": "code",
   "execution_count": 13,
   "id": "fdd3394b",
   "metadata": {},
   "outputs": [
    {
     "name": "stdout",
     "output_type": "stream",
     "text": [
      "Enter the number of rows= 10\n",
      "12345678910\n",
      "12345678910\n",
      "12345678910\n",
      "12345678910\n",
      "12345678910\n",
      "12345678910\n",
      "12345678910\n",
      "12345678910\n",
      "12345678910\n",
      "12345678910\n"
     ]
    }
   ],
   "source": [
    "# pattern-3 #\n",
    "\n",
    "n=int(input(\"Enter the number of rows= \"))\n",
    "for i in range (1,n+1):\n",
    "    for j in range (1,n+1):\n",
    "        print(j,end=\"\")\n",
    "    print()"
   ]
  },
  {
   "cell_type": "code",
   "execution_count": 15,
   "id": "3f16ae6c",
   "metadata": {},
   "outputs": [
    {
     "name": "stdout",
     "output_type": "stream",
     "text": [
      "Enter the number of rows= 10\n",
      "AAAAAAAAAA\n",
      "BBBBBBBBBB\n",
      "CCCCCCCCCC\n",
      "DDDDDDDDDD\n",
      "EEEEEEEEEE\n",
      "FFFFFFFFFF\n",
      "GGGGGGGGGG\n",
      "HHHHHHHHHH\n",
      "IIIIIIIIII\n",
      "JJJJJJJJJJ\n"
     ]
    }
   ],
   "source": [
    "# pattern-4 #\n",
    "\n",
    "n=int(input(\"Enter the number of rows= \"))\n",
    "for i in range (1,n+1):\n",
    "    for j in range (1,n+1):\n",
    "        print(chr(64+i),end=\"\")\n",
    "    print()"
   ]
  },
  {
   "cell_type": "code",
   "execution_count": 16,
   "id": "722a3c33",
   "metadata": {},
   "outputs": [
    {
     "name": "stdout",
     "output_type": "stream",
     "text": [
      "Enter the number of rows= 10\n",
      "ABCDEFGHIJ\n",
      "ABCDEFGHIJ\n",
      "ABCDEFGHIJ\n",
      "ABCDEFGHIJ\n",
      "ABCDEFGHIJ\n",
      "ABCDEFGHIJ\n",
      "ABCDEFGHIJ\n",
      "ABCDEFGHIJ\n",
      "ABCDEFGHIJ\n",
      "ABCDEFGHIJ\n"
     ]
    }
   ],
   "source": [
    "# pattern-5 #\n",
    "\n",
    "n=int(input(\"Enter the number of rows= \"))\n",
    "for i in range (1,n+1):\n",
    "    for j in range (1,n+1):\n",
    "        print(chr(64+j),end=\"\")\n",
    "    print()"
   ]
  },
  {
   "cell_type": "code",
   "execution_count": 17,
   "id": "aa32d316",
   "metadata": {},
   "outputs": [
    {
     "name": "stdout",
     "output_type": "stream",
     "text": [
      "Enter the number of rows= 10\n",
      "10101010101010101010\n",
      "9999999999\n",
      "8888888888\n",
      "7777777777\n",
      "6666666666\n",
      "5555555555\n",
      "4444444444\n",
      "3333333333\n",
      "2222222222\n",
      "1111111111\n"
     ]
    }
   ],
   "source": [
    "# pattern-6 #\n",
    "\n",
    "n=int(input(\"Enter the number of rows= \"))\n",
    "for i in range (1,n+1):\n",
    "    for j in range (1,n+1):\n",
    "        print(n+1-i,end=\"\")\n",
    "    print()"
   ]
  },
  {
   "cell_type": "code",
   "execution_count": 1,
   "id": "4595af8f",
   "metadata": {},
   "outputs": [
    {
     "name": "stdout",
     "output_type": "stream",
     "text": [
      "Enter the number of rows= 10\n",
      "10987654321\n",
      "10987654321\n",
      "10987654321\n",
      "10987654321\n",
      "10987654321\n",
      "10987654321\n",
      "10987654321\n",
      "10987654321\n",
      "10987654321\n",
      "10987654321\n"
     ]
    }
   ],
   "source": [
    "# pattern-6 #\n",
    "\n",
    "n=int(input(\"Enter the number of rows= \"))\n",
    "for i in range (1,n+1):\n",
    "    for j in range (1,n+1):\n",
    "        print(n+1-j,end=\"\")\n",
    "    print()"
   ]
  },
  {
   "cell_type": "code",
   "execution_count": 2,
   "id": "752b5cf9",
   "metadata": {},
   "outputs": [
    {
     "name": "stdout",
     "output_type": "stream",
     "text": [
      "Enter the number of rows= 10\n",
      "JJJJJJJJJJ\n",
      "IIIIIIIIII\n",
      "HHHHHHHHHH\n",
      "GGGGGGGGGG\n",
      "FFFFFFFFFF\n",
      "EEEEEEEEEE\n",
      "DDDDDDDDDD\n",
      "CCCCCCCCCC\n",
      "BBBBBBBBBB\n",
      "AAAAAAAAAA\n"
     ]
    }
   ],
   "source": [
    "# pattern-7 #\n",
    "\n",
    "n=int(input(\"Enter the number of rows= \"))\n",
    "for i in range (1,n+1):\n",
    "    for j in range (1,n+1):\n",
    "        print(chr(65+n-i),end=\"\")\n",
    "    print()"
   ]
  },
  {
   "cell_type": "code",
   "execution_count": 3,
   "id": "d85e58bc",
   "metadata": {},
   "outputs": [
    {
     "name": "stdout",
     "output_type": "stream",
     "text": [
      "Enter the number of rows= 10\n",
      "JIHGFEDCBA\n",
      "JIHGFEDCBA\n",
      "JIHGFEDCBA\n",
      "JIHGFEDCBA\n",
      "JIHGFEDCBA\n",
      "JIHGFEDCBA\n",
      "JIHGFEDCBA\n",
      "JIHGFEDCBA\n",
      "JIHGFEDCBA\n",
      "JIHGFEDCBA\n"
     ]
    }
   ],
   "source": [
    "# pattern-8 #\n",
    "\n",
    "n=int(input(\"Enter the number of rows= \"))\n",
    "for i in range (1,n+1):\n",
    "    for j in range (1,n+1):\n",
    "        print(chr(65+n-j),end=\"\")\n",
    "    print()"
   ]
  },
  {
   "cell_type": "code",
   "execution_count": 4,
   "id": "d22ce24b",
   "metadata": {},
   "outputs": [
    {
     "name": "stdout",
     "output_type": "stream",
     "text": [
      "Enter the number of rows= 10\n",
      "*\n",
      "**\n",
      "***\n",
      "****\n",
      "*****\n",
      "******\n",
      "*******\n",
      "********\n",
      "*********\n",
      "**********\n"
     ]
    }
   ],
   "source": [
    "# pattern-9 #\n",
    "\n",
    "n=int(input(\"Enter the number of rows= \"))\n",
    "for i in range (1,n+1):\n",
    "    for j in range (1,i+1):\n",
    "        print(\"*\",end=\"\")\n",
    "    print()"
   ]
  },
  {
   "cell_type": "code",
   "execution_count": 5,
   "id": "4cdb00bd",
   "metadata": {},
   "outputs": [
    {
     "name": "stdout",
     "output_type": "stream",
     "text": [
      "Enter the number of rows= 10\n",
      "*\n",
      "**\n",
      "***\n",
      "****\n",
      "*****\n",
      "******\n",
      "*******\n",
      "********\n",
      "*********\n",
      "**********\n"
     ]
    }
   ],
   "source": [
    "# pattern-9 #\n",
    "\n",
    "n=int(input(\"Enter the number of rows= \"))\n",
    "for i in range (1,n+1):\n",
    "    print(\"*\"*i)"
   ]
  },
  {
   "cell_type": "code",
   "execution_count": 8,
   "id": "ca063b7b",
   "metadata": {},
   "outputs": [
    {
     "name": "stdout",
     "output_type": "stream",
     "text": [
      "Enter the number of rows= 10\n",
      "1\n",
      "22\n",
      "333\n",
      "4444\n",
      "55555\n",
      "666666\n",
      "7777777\n",
      "88888888\n",
      "999999999\n",
      "10101010101010101010\n"
     ]
    }
   ],
   "source": [
    "# pattern-10 #\n",
    "\n",
    "n=int(input(\"Enter the number of rows= \"))\n",
    "for i in range (1,n+1):\n",
    "    for j in range (1,i+1):\n",
    "        print(i,end=\"\")\n",
    "    print()"
   ]
  },
  {
   "cell_type": "code",
   "execution_count": 9,
   "id": "07f00764",
   "metadata": {},
   "outputs": [
    {
     "name": "stdout",
     "output_type": "stream",
     "text": [
      "Enter the number of rows= 10\n",
      "1\n",
      "12\n",
      "123\n",
      "1234\n",
      "12345\n",
      "123456\n",
      "1234567\n",
      "12345678\n",
      "123456789\n",
      "12345678910\n"
     ]
    }
   ],
   "source": [
    "# pattern-11 #\n",
    "\n",
    "n=int(input(\"Enter the number of rows= \"))\n",
    "for i in range (1,n+1):\n",
    "    for j in range (1,i+1):\n",
    "        print(j,end=\"\")\n",
    "    print()"
   ]
  },
  {
   "cell_type": "code",
   "execution_count": 10,
   "id": "8cec3754",
   "metadata": {},
   "outputs": [
    {
     "name": "stdout",
     "output_type": "stream",
     "text": [
      "Enter the number of rows= 10\n",
      "A\n",
      "BB\n",
      "CCC\n",
      "DDDD\n",
      "EEEEE\n",
      "FFFFFF\n",
      "GGGGGGG\n",
      "HHHHHHHH\n",
      "IIIIIIIII\n",
      "JJJJJJJJJJ\n"
     ]
    }
   ],
   "source": [
    "# pattern-12 #\n",
    "\n",
    "n=int(input(\"Enter the number of rows= \"))\n",
    "for i in range (1,n+1):\n",
    "    for j in range (1,i+1):\n",
    "        print(chr(64+i),end=\"\")\n",
    "    print()"
   ]
  },
  {
   "cell_type": "code",
   "execution_count": 11,
   "id": "ba69ed6e",
   "metadata": {},
   "outputs": [
    {
     "name": "stdout",
     "output_type": "stream",
     "text": [
      "Enter the number of rows= 10\n",
      "A\n",
      "AB\n",
      "ABC\n",
      "ABCD\n",
      "ABCDE\n",
      "ABCDEF\n",
      "ABCDEFG\n",
      "ABCDEFGH\n",
      "ABCDEFGHI\n",
      "ABCDEFGHIJ\n"
     ]
    }
   ],
   "source": [
    "# pattern-13 #\n",
    "\n",
    "n=int(input(\"Enter the number of rows= \"))\n",
    "for i in range (1,n+1):\n",
    "    for j in range (1,i+1):\n",
    "        print(chr(64+j),end=\"\")\n",
    "    print()"
   ]
  },
  {
   "cell_type": "code",
   "execution_count": 13,
   "id": "b77e5258",
   "metadata": {},
   "outputs": [
    {
     "name": "stdout",
     "output_type": "stream",
     "text": [
      "Enter the number of rows= 10\n",
      "**********\n",
      "*********\n",
      "********\n",
      "*******\n",
      "******\n",
      "*****\n",
      "****\n",
      "***\n",
      "**\n",
      "*\n"
     ]
    }
   ],
   "source": [
    "# pattern-14 #\n",
    "\n",
    "n=int(input(\"Enter the number of rows= \"))\n",
    "for i in range (1,n+1):\n",
    "    for j in range (1,n+2-i):\n",
    "        print(\"*\",end=\"\")\n",
    "    print()"
   ]
  },
  {
   "cell_type": "code",
   "execution_count": 29,
   "id": "ad4d8051",
   "metadata": {},
   "outputs": [
    {
     "name": "stdout",
     "output_type": "stream",
     "text": [
      "Enter the number of rows= 10\n",
      "1111111111\n",
      "222222222\n",
      "33333333\n",
      "4444444\n",
      "555555\n",
      "66666\n",
      "7777\n",
      "888\n",
      "99\n",
      "10\n"
     ]
    }
   ],
   "source": [
    "# pattern-15 #\n",
    "\n",
    "n=int(input(\"Enter the number of rows= \"))\n",
    "for i in range (1,n+1):# i=1->j=10 times 1, i=2->j=9 times 2, i=3->j=8 times 3,i=4->J=7 times 4,\n",
    "    for j in range (1,n+2-i):#i=5->j=6 times 5, i=6->j=5 times 6,\n",
    "        print(i,end=\"\")\n",
    "    print()"
   ]
  },
  {
   "cell_type": "code",
   "execution_count": 32,
   "id": "560dd782",
   "metadata": {},
   "outputs": [
    {
     "name": "stdout",
     "output_type": "stream",
     "text": [
      "Enter the number of rows= 10\n",
      "12345678910\n",
      "123456789\n",
      "12345678\n",
      "1234567\n",
      "123456\n",
      "12345\n",
      "1234\n",
      "123\n",
      "12\n",
      "1\n"
     ]
    }
   ],
   "source": [
    "# pattern-16 #\n",
    "\n",
    "n=int(input(\"Enter the number of rows= \"))\n",
    "for i in range (1,n+1):#i=1=>j=1 to 10,i=2=> j=1 to 9, i=3=>j=1 to 8, i=4=>j=1 to 7, \n",
    "    for j in range (1,n+2-i):# i=5=>j=1 to 6, i=6=>j=1 to 5, i=7=>j=1 to 4,i=8=>j=1 to 3, \n",
    "        print(j,end=\"\")#i=9=>j=1 to 2, i=10=>j=1,\n",
    "    print()"
   ]
  },
  {
   "cell_type": "code",
   "execution_count": 33,
   "id": "14de3747",
   "metadata": {},
   "outputs": [
    {
     "name": "stdout",
     "output_type": "stream",
     "text": [
      "Enter the number of rows= 10\n",
      "AAAAAAAAAA\n",
      "BBBBBBBBB\n",
      "CCCCCCCC\n",
      "DDDDDDD\n",
      "EEEEEE\n",
      "FFFFF\n",
      "GGGG\n",
      "HHH\n",
      "II\n",
      "J\n"
     ]
    }
   ],
   "source": [
    "# pattern-17 #\n",
    "\n",
    "n=int(input(\"Enter the number of rows= \"))\n",
    "for i in range (1,n+1):\n",
    "    for j in range (1,n+2-i):\n",
    "        print(chr(64+i),end=\"\")\n",
    "    print()"
   ]
  },
  {
   "cell_type": "code",
   "execution_count": 34,
   "id": "3fc1eeaf",
   "metadata": {},
   "outputs": [
    {
     "name": "stdout",
     "output_type": "stream",
     "text": [
      "Enter the number of rows= 10\n",
      "ABCDEFGHIJ\n",
      "ABCDEFGHI\n",
      "ABCDEFGH\n",
      "ABCDEFG\n",
      "ABCDEF\n",
      "ABCDE\n",
      "ABCD\n",
      "ABC\n",
      "AB\n",
      "A\n"
     ]
    }
   ],
   "source": [
    "# pattern-18 #\n",
    "\n",
    "n=int(input(\"Enter the number of rows= \"))\n",
    "for i in range (1,n+1):\n",
    "    for j in range (1,n+2-i):\n",
    "        print(chr(64+j),end=\"\")\n",
    "    print()"
   ]
  },
  {
   "cell_type": "code",
   "execution_count": 36,
   "id": "7d646d7f",
   "metadata": {},
   "outputs": [
    {
     "name": "stdout",
     "output_type": "stream",
     "text": [
      "Enter the number of rows= 10\n",
      "10101010101010101010\n",
      "999999999\n",
      "88888888\n",
      "7777777\n",
      "666666\n",
      "55555\n",
      "4444\n",
      "333\n",
      "22\n",
      "1\n"
     ]
    }
   ],
   "source": [
    "# pattern-19 #\n",
    "\n",
    "n=int(input(\"Enter the number of rows= \"))\n",
    "for i in range (1,n+1):\n",
    "    for j in range (1,n+2-i):\n",
    "        print(n+1-i,end=\"\")\n",
    "    print()"
   ]
  },
  {
   "cell_type": "code",
   "execution_count": 37,
   "id": "eb15ec2b",
   "metadata": {},
   "outputs": [
    {
     "name": "stdout",
     "output_type": "stream",
     "text": [
      "Enter the number of rows= 10\n",
      "10987654321\n",
      "1098765432\n",
      "109876543\n",
      "10987654\n",
      "1098765\n",
      "109876\n",
      "10987\n",
      "1098\n",
      "109\n",
      "10\n"
     ]
    }
   ],
   "source": [
    "# pattern-20 #\n",
    "\n",
    "n=int(input(\"Enter the number of rows= \"))\n",
    "for i in range (1,n+1):\n",
    "    for j in range (1,n+2-i):\n",
    "        print(n+1-j,end=\"\")\n",
    "    print()"
   ]
  },
  {
   "cell_type": "code",
   "execution_count": 38,
   "id": "45f43ee8",
   "metadata": {},
   "outputs": [
    {
     "name": "stdout",
     "output_type": "stream",
     "text": [
      "Enter the number of rows= 10\n",
      "JJJJJJJJJJ\n",
      "IIIIIIIII\n",
      "HHHHHHHH\n",
      "GGGGGGG\n",
      "FFFFFF\n",
      "EEEEE\n",
      "DDDD\n",
      "CCC\n",
      "BB\n",
      "A\n"
     ]
    }
   ],
   "source": [
    "# pattern-21 #\n",
    "\n",
    "n=int(input(\"Enter the number of rows= \"))\n",
    "for i in range (1,n+1):\n",
    "    for j in range (1,n+2-i):\n",
    "        print(chr(65+n-i),end=\"\")\n",
    "    print()"
   ]
  },
  {
   "cell_type": "code",
   "execution_count": 39,
   "id": "40e27f79",
   "metadata": {},
   "outputs": [
    {
     "name": "stdout",
     "output_type": "stream",
     "text": [
      "Enter the number of rows= 10\n",
      "JIHGFEDCBA\n",
      "JIHGFEDCB\n",
      "JIHGFEDC\n",
      "JIHGFED\n",
      "JIHGFE\n",
      "JIHGF\n",
      "JIHG\n",
      "JIH\n",
      "JI\n",
      "J\n"
     ]
    }
   ],
   "source": [
    "# pattern-22 #\n",
    "\n",
    "n=int(input(\"Enter the number of rows= \"))\n",
    "for i in range (1,n+1):\n",
    "    for j in range (1,n+2-i):\n",
    "        print(chr(65+n-j),end=\"\")\n",
    "    print()"
   ]
  },
  {
   "cell_type": "code",
   "execution_count": 14,
   "id": "f8b7f874",
   "metadata": {},
   "outputs": [
    {
     "name": "stdout",
     "output_type": "stream",
     "text": [
      "Enter the number of rows= 10\n",
      "          *  \n",
      "         * *  \n",
      "        * * *  \n",
      "       * * * *  \n",
      "      * * * * *  \n",
      "     * * * * * *  \n",
      "    * * * * * * *  \n",
      "   * * * * * * * *  \n",
      "  * * * * * * * * *  \n",
      " * * * * * * * * * *  \n"
     ]
    }
   ],
   "source": [
    "# pattern-23 #\n",
    "\n",
    "n=int(input(\"Enter the number of rows= \"))\n",
    "for i in range (1,n+1):\n",
    "    print(\" \"*(n-i),\"* \"*i,end=\" \")\n",
    "    print()    "
   ]
  },
  {
   "cell_type": "code",
   "execution_count": 1,
   "id": "c7d5ccef",
   "metadata": {},
   "outputs": [
    {
     "name": "stdout",
     "output_type": "stream",
     "text": [
      "Enter the number of rows= 10\n",
      "         * \n",
      "        * * \n",
      "       * * * \n",
      "      * * * * \n",
      "     * * * * * \n",
      "    * * * * * * \n",
      "   * * * * * * * \n",
      "  * * * * * * * * \n",
      " * * * * * * * * * \n",
      "* * * * * * * * * * \n"
     ]
    }
   ],
   "source": [
    "# pattern-24 #\n",
    "\n",
    "n=int(input(\"Enter the number of rows= \"))\n",
    "for i in range (1,n+1):\n",
    "    print(\" \"*(n-i),end=\"\")\n",
    "    for j in range (1,i+1):\n",
    "        print(\"*\",end=\" \")\n",
    "    print()    "
   ]
  },
  {
   "cell_type": "code",
   "execution_count": 50,
   "id": "54a2aea2",
   "metadata": {},
   "outputs": [
    {
     "name": "stdout",
     "output_type": "stream",
     "text": [
      "Enter the number of rows= 10\n",
      "          1 \n",
      "\n",
      "         2 2 \n",
      "\n",
      "        3 3 3 \n",
      "\n",
      "       4 4 4 4 \n",
      "\n",
      "      5 5 5 5 5 \n",
      "\n",
      "     6 6 6 6 6 6 \n",
      "\n",
      "    7 7 7 7 7 7 7 \n",
      "\n",
      "   8 8 8 8 8 8 8 8 \n",
      "\n",
      "  9 9 9 9 9 9 9 9 9 \n",
      "\n",
      " 10 10 10 10 10 10 10 10 10 10 \n",
      "\n"
     ]
    }
   ],
   "source": [
    "# pattern-25 #\n",
    "\n",
    "n=int(input(\"Enter the number of rows= \"))\n",
    "for i in range (1,n+1):\n",
    "    print(\" \"*(n-i),(str(i)+\" \")*i)\n",
    "    print()    "
   ]
  },
  {
   "cell_type": "code",
   "execution_count": null,
   "id": "d2c6f83f",
   "metadata": {},
   "outputs": [],
   "source": []
  }
 ],
 "metadata": {
  "kernelspec": {
   "display_name": "Python 3 (ipykernel)",
   "language": "python",
   "name": "python3"
  },
  "language_info": {
   "codemirror_mode": {
    "name": "ipython",
    "version": 3
   },
   "file_extension": ".py",
   "mimetype": "text/x-python",
   "name": "python",
   "nbconvert_exporter": "python",
   "pygments_lexer": "ipython3",
   "version": "3.9.7"
  }
 },
 "nbformat": 4,
 "nbformat_minor": 5
}
